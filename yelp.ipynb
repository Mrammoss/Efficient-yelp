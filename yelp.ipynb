{
 "cells": [
  {
   "cell_type": "code",
   "execution_count": 1,
   "id": "aa94089a-3590-4651-8762-c8affde22e72",
   "metadata": {},
   "outputs": [],
   "source": [
    "import numpy as np\n",
    "import pandas as pd\n",
    "import matplotlib.pyplot as plt \n",
    "import seaborn as sns\n",
    "import os, json, math, time"
   ]
  },
  {
   "cell_type": "code",
   "execution_count": 2,
   "id": "ebb990e5-9e9e-41d7-944f-be8a33a3cecc",
   "metadata": {},
   "outputs": [
    {
     "name": "stdout",
     "output_type": "stream",
     "text": [
      "Requirement already satisfied: yelpapi in c:\\users\\user\\anaconda3\\envs\\dojo-env\\lib\\site-packages (2.5.1)\n",
      "Requirement already satisfied: requests in c:\\users\\user\\anaconda3\\envs\\dojo-env\\lib\\site-packages (from yelpapi) (2.29.0)\n",
      "Requirement already satisfied: charset-normalizer<4,>=2 in c:\\users\\user\\anaconda3\\envs\\dojo-env\\lib\\site-packages (from requests->yelpapi) (2.0.4)\n",
      "Requirement already satisfied: idna<4,>=2.5 in c:\\users\\user\\anaconda3\\envs\\dojo-env\\lib\\site-packages (from requests->yelpapi) (3.4)\n",
      "Requirement already satisfied: urllib3<1.27,>=1.21.1 in c:\\users\\user\\anaconda3\\envs\\dojo-env\\lib\\site-packages (from requests->yelpapi) (1.26.15)\n",
      "Requirement already satisfied: certifi>=2017.4.17 in c:\\users\\user\\anaconda3\\envs\\dojo-env\\lib\\site-packages (from requests->yelpapi) (2023.5.7)\n",
      "Requirement already satisfied: tqdm in c:\\users\\user\\anaconda3\\envs\\dojo-env\\lib\\site-packages (4.65.0)\n",
      "Requirement already satisfied: colorama in c:\\users\\user\\anaconda3\\envs\\dojo-env\\lib\\site-packages (from tqdm) (0.4.6)\n"
     ]
    }
   ],
   "source": [
    "!pip install yelpapi\n",
    "!pip install tqdm"
   ]
  },
  {
   "cell_type": "code",
   "execution_count": 3,
   "id": "4e163c57-e9f4-4463-a5d0-94aea26c9f3c",
   "metadata": {},
   "outputs": [],
   "source": [
    "from yelpapi import YelpAPI\n",
    "from tqdm.notebook import tqdm_notebook"
   ]
  },
  {
   "cell_type": "code",
   "execution_count": 4,
   "id": "311732a0-d102-47ca-9032-a09a45c16cc7",
   "metadata": {},
   "outputs": [
    {
     "ename": "FileNotFoundError",
     "evalue": "[Errno 2] No such file or directory: '/Users/User/.secret/yelp_api.json'",
     "output_type": "error",
     "traceback": [
      "\u001b[1;31m---------------------------------------------------------------------------\u001b[0m",
      "\u001b[1;31mFileNotFoundError\u001b[0m                         Traceback (most recent call last)",
      "Cell \u001b[1;32mIn[4], line 1\u001b[0m\n\u001b[1;32m----> 1\u001b[0m \u001b[38;5;28;01mwith\u001b[39;00m \u001b[38;5;28;43mopen\u001b[39;49m\u001b[43m(\u001b[49m\u001b[38;5;124;43m'\u001b[39;49m\u001b[38;5;124;43m/Users/User/.secret/yelp_api.json\u001b[39;49m\u001b[38;5;124;43m'\u001b[39;49m\u001b[43m,\u001b[49m\u001b[43m \u001b[49m\u001b[38;5;124;43m'\u001b[39;49m\u001b[38;5;124;43mr\u001b[39;49m\u001b[38;5;124;43m'\u001b[39;49m\u001b[43m)\u001b[49m \u001b[38;5;28;01mas\u001b[39;00m f: \u001b[38;5;66;03m#change the path to match YOUR path!!\u001b[39;00m\n\u001b[0;32m      2\u001b[0m     login \u001b[38;5;241m=\u001b[39m json\u001b[38;5;241m.\u001b[39mload(f)\n",
      "File \u001b[1;32m~\\anaconda3\\envs\\dojo-env\\lib\\site-packages\\IPython\\core\\interactiveshell.py:284\u001b[0m, in \u001b[0;36m_modified_open\u001b[1;34m(file, *args, **kwargs)\u001b[0m\n\u001b[0;32m    277\u001b[0m \u001b[38;5;28;01mif\u001b[39;00m file \u001b[38;5;129;01min\u001b[39;00m {\u001b[38;5;241m0\u001b[39m, \u001b[38;5;241m1\u001b[39m, \u001b[38;5;241m2\u001b[39m}:\n\u001b[0;32m    278\u001b[0m     \u001b[38;5;28;01mraise\u001b[39;00m \u001b[38;5;167;01mValueError\u001b[39;00m(\n\u001b[0;32m    279\u001b[0m         \u001b[38;5;124mf\u001b[39m\u001b[38;5;124m\"\u001b[39m\u001b[38;5;124mIPython won\u001b[39m\u001b[38;5;124m'\u001b[39m\u001b[38;5;124mt let you open fd=\u001b[39m\u001b[38;5;132;01m{\u001b[39;00mfile\u001b[38;5;132;01m}\u001b[39;00m\u001b[38;5;124m by default \u001b[39m\u001b[38;5;124m\"\u001b[39m\n\u001b[0;32m    280\u001b[0m         \u001b[38;5;124m\"\u001b[39m\u001b[38;5;124mas it is likely to crash IPython. If you know what you are doing, \u001b[39m\u001b[38;5;124m\"\u001b[39m\n\u001b[0;32m    281\u001b[0m         \u001b[38;5;124m\"\u001b[39m\u001b[38;5;124myou can use builtins\u001b[39m\u001b[38;5;124m'\u001b[39m\u001b[38;5;124m open.\u001b[39m\u001b[38;5;124m\"\u001b[39m\n\u001b[0;32m    282\u001b[0m     )\n\u001b[1;32m--> 284\u001b[0m \u001b[38;5;28;01mreturn\u001b[39;00m io_open(file, \u001b[38;5;241m*\u001b[39margs, \u001b[38;5;241m*\u001b[39m\u001b[38;5;241m*\u001b[39mkwargs)\n",
      "\u001b[1;31mFileNotFoundError\u001b[0m: [Errno 2] No such file or directory: '/Users/User/.secret/yelp_api.json'"
     ]
    }
   ],
   "source": [
    "\n",
    "with open('/Users/User/.secret/yelp_api.json', 'r') as f: #change the path to match YOUR path!!\n",
    "    login = json.load(f)\n",
    "\n"
   ]
  },
  {
   "cell_type": "code",
   "execution_count": null,
   "id": "84ecddfa-6ebc-4904-b4a9-b08a26aba28d",
   "metadata": {},
   "outputs": [],
   "source": [
    "yelp= YelpAPI(login['api-key'], timeout_s=5.0)\n",
    "yelp"
   ]
  },
  {
   "cell_type": "code",
   "execution_count": null,
   "id": "d8ab1849-9d23-455f-a814-bf31e78c9a68",
   "metadata": {},
   "outputs": [],
   "source": [
    "location = 'Chicago, IL'\n",
    "term = 'sushi'"
   ]
  },
  {
   "cell_type": "code",
   "execution_count": null,
   "id": "f3206d1e-cb4f-4444-8740-d25da7ba3b13",
   "metadata": {},
   "outputs": [],
   "source": [
    "location.split(',')[0]"
   ]
  },
  {
   "cell_type": "code",
   "execution_count": null,
   "id": "77f59ea8-3a9c-4c16-a3e1-e6c08f9566e9",
   "metadata": {},
   "outputs": [],
   "source": [
    "FOLDER = 'Data/'\n",
    "os.makedirs(FOLDER, exist_ok = True)\n",
    "JSON_FILE = FOLDER+f\"{location.split(',')[0]}-{term}.json\""
   ]
  },
  {
   "cell_type": "code",
   "execution_count": null,
   "id": "a23c6448-67dd-477d-a8a8-3fdb13f1af6b",
   "metadata": {},
   "outputs": [],
   "source": [
    "JSON_FILE"
   ]
  },
  {
   "cell_type": "code",
   "execution_count": null,
   "id": "47128fa3-4153-483a-b5a9-c3d0af596941",
   "metadata": {},
   "outputs": [],
   "source": [
    "file_exists = os.path.isfile(JSON_FILE)\n",
    "\n",
    "if file_exists == False:\n",
    "\n",
    "    folder = os.path.dirname(JSON_FILE)\n",
    "\n",
    "    if len(folder)>0:\n",
    "        #Create folder\n",
    "        os.makedirs(folder,exist_ok = True)\n",
    "\n",
    "    print(f\"[i] {JSON_FILE} not found. Saving empty list to file.\")\n",
    "\n",
    "    with open(JSON_FILE, 'w') as f:\n",
    "        json.dump([], f)\n",
    "\n",
    "else:\n",
    "    print(f\"[ii] {JSON_FILE} already exists.\")"
   ]
  },
  {
   "cell_type": "code",
   "execution_count": null,
   "id": "043518ec-4e67-40e7-b48f-4b90f66ee130",
   "metadata": {},
   "outputs": [],
   "source": [
    "results = yelp.search_query(term = term, location = location)\n"
   ]
  },
  {
   "cell_type": "code",
   "execution_count": null,
   "id": "f45a5677-97a4-4ea8-bd8b-73cf1d621147",
   "metadata": {},
   "outputs": [],
   "source": [
    "type(results)"
   ]
  },
  {
   "cell_type": "code",
   "execution_count": null,
   "id": "fe47cafc-0350-4448-abdf-57672258960b",
   "metadata": {},
   "outputs": [],
   "source": [
    "len(results)"
   ]
  },
  {
   "cell_type": "code",
   "execution_count": null,
   "id": "a9322b3f-6734-41e3-9812-ddd7690daa21",
   "metadata": {},
   "outputs": [],
   "source": [
    "results.keys()"
   ]
  },
  {
   "cell_type": "code",
   "execution_count": null,
   "id": "c9319688-014d-4794-9356-6dbbadbcaa25",
   "metadata": {},
   "outputs": [],
   "source": [
    "results['total']"
   ]
  },
  {
   "cell_type": "code",
   "execution_count": null,
   "id": "8d685d43-2d08-49b5-b1b7-283dca34d56d",
   "metadata": {},
   "outputs": [],
   "source": [
    "results['region']"
   ]
  },
  {
   "cell_type": "code",
   "execution_count": null,
   "id": "07f42479-298a-4c39-9a0b-434a8896d5df",
   "metadata": {},
   "outputs": [],
   "source": [
    "results['businesses']"
   ]
  },
  {
   "cell_type": "code",
   "execution_count": null,
   "id": "940bb6fd-e23e-4384-a7e8-0cbb755c78ed",
   "metadata": {},
   "outputs": [],
   "source": [
    "pd.DataFrame(results['businesses'])"
   ]
  },
  {
   "cell_type": "code",
   "execution_count": null,
   "id": "11f3ac12-a634-4182-b5ad-f62dca74efc3",
   "metadata": {},
   "outputs": [],
   "source": [
    "results_per_page = len(results['businesses'])\n",
    "results_per_page"
   ]
  },
  {
   "cell_type": "code",
   "execution_count": null,
   "id": "e8b54765-26c5-4e69-a709-952e67ae74dc",
   "metadata": {},
   "outputs": [],
   "source": [
    "(results['total'])/results_per_page"
   ]
  },
  {
   "cell_type": "code",
   "execution_count": null,
   "id": "d46ead4e-f343-4d82-be05-229eec817e84",
   "metadata": {},
   "outputs": [],
   "source": [
    "n_pages = math.ceil(results['total']/results_per_page)\n",
    "n_pages"
   ]
  },
  {
   "cell_type": "code",
   "execution_count": null,
   "id": "0bd7809a-33a0-45a5-ba30-081bda0ec2fb",
   "metadata": {},
   "outputs": [],
   "source": [
    "for i in tqdm_notebook(range(1, n_pages+1)):\n",
    "    try: \n",
    "\n",
    "        time.sleep(.2)\n",
    "\n",
    "        with open(JSON_FILE, 'r') as f:\n",
    "            previous_results = json.load(f)\n",
    "\n",
    "        n_results = len(previous_results)\n",
    "\n",
    "        results = yelp.search_query(location = location, term = term, offset = n_results+1)\n",
    "\n",
    "        previous_results.extend(results['businesses'])\n",
    "\n",
    "        with open(JSON_FILE, 'w') as f:\n",
    "            json.dump(previous_results, f)\n",
    "\n",
    "\n",
    "    except Exception as e:\n",
    "        print(' [!] ERROR', e)\n"
   ]
  },
  {
   "cell_type": "code",
   "execution_count": null,
   "id": "04d193d1-15a6-4038-b861-8cdaf0607cfe",
   "metadata": {},
   "outputs": [],
   "source": [
    "df = pd.read_json(JSON_FILE)"
   ]
  },
  {
   "cell_type": "markdown",
   "id": "6c095fd5-b549-413c-acce-03f498e5a3d1",
   "metadata": {},
   "source": [
    "Not sure why I got this error."
   ]
  },
  {
   "cell_type": "code",
   "execution_count": null,
   "id": "83817065-06bc-4991-a3c2-caddc3d347a9",
   "metadata": {},
   "outputs": [],
   "source": []
  }
 ],
 "metadata": {
  "kernelspec": {
   "display_name": "Python (dojo-env)",
   "language": "python",
   "name": "dojo-env"
  },
  "language_info": {
   "codemirror_mode": {
    "name": "ipython",
    "version": 3
   },
   "file_extension": ".py",
   "mimetype": "text/x-python",
   "name": "python",
   "nbconvert_exporter": "python",
   "pygments_lexer": "ipython3",
   "version": "3.10.10"
  },
  "widgets": {
   "application/vnd.jupyter.widget-state+json": {
    "state": {},
    "version_major": 2,
    "version_minor": 0
   }
  }
 },
 "nbformat": 4,
 "nbformat_minor": 5
}
